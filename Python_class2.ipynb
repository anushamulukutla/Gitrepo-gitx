{
  "nbformat": 4,
  "nbformat_minor": 0,
  "metadata": {
    "colab": {
      "provenance": [],
      "authorship_tag": "ABX9TyP72a2sf4W2aL/Buuk9d8Mv",
      "include_colab_link": true
    },
    "kernelspec": {
      "name": "python3",
      "display_name": "Python 3"
    },
    "language_info": {
      "name": "python"
    }
  },
  "cells": [
    {
      "cell_type": "markdown",
      "metadata": {
        "id": "view-in-github",
        "colab_type": "text"
      },
      "source": [
        "<a href=\"https://colab.research.google.com/github/anushamulukutla/Gitrepo-gitx/blob/master/Python_class2.ipynb\" target=\"_parent\"><img src=\"https://colab.research.google.com/assets/colab-badge.svg\" alt=\"Open In Colab\"/></a>"
      ]
    },
    {
      "cell_type": "code",
      "execution_count": null,
      "metadata": {
        "colab": {
          "base_uri": "https://localhost:8080/"
        },
        "id": "civfEPbrf6Aq",
        "outputId": "55d14cca-68cd-45d8-d672-cf505ba28947"
      },
      "outputs": [
        {
          "output_type": "stream",
          "name": "stdout",
          "text": [
            "Money in the piggy bank 10\n",
            "Enter the Amount to be Added :88\n",
            "The Total Amount int the PIGGYBANK: 98\n"
          ]
        }
      ],
      "source": [
        "#Anusha\n",
        "Money_in_piggybank=10\n",
        "print(\"Money in the piggy bank\",Money_in_piggybank)\n",
        "piggy_bank=int(input(\"Enter the Amount to be Added :\"))\n",
        "Total_Amount=Money_in_piggybank+piggy_bank\n",
        "print(\"The Total Amount int the PIGGYBANK:\",Total_Amount)"
      ]
    },
    {
      "cell_type": "code",
      "source": [
        "word = \"bananana\"\n",
        "i = word.find(\"na\")\n",
        "print(i)"
      ],
      "metadata": {
        "colab": {
          "base_uri": "https://localhost:8080/"
        },
        "id": "3-l1qiIKC6PS",
        "outputId": "11ca77ee-9a9a-4329-ecfa-1ba246efa9b7"
      },
      "execution_count": null,
      "outputs": [
        {
          "output_type": "stream",
          "name": "stdout",
          "text": [
            "2\n"
          ]
        }
      ]
    },
    {
      "cell_type": "code",
      "source": [
        "#anusha\n",
        "#If-Else Elif\n",
        "\n",
        "First_num=float(input(\"Enter the First Number:\"))\n",
        "second_num=float(input(\"Enter the Second Number:\"))\n",
        "if First_num > second_num:\n",
        "  print(First_num,\"Is Highest Number \")\n",
        "elif First_num == second_num:\n",
        "  print(\"Sorry !! , Both Number Are Equal\")\n",
        "else:\n",
        "  print(second_num,\"Is Highest Number\")"
      ],
      "metadata": {
        "colab": {
          "base_uri": "https://localhost:8080/"
        },
        "id": "3eRwKarIrtNu",
        "outputId": "612d05fc-e231-41e1-bbf8-b16d3a649185"
      },
      "execution_count": null,
      "outputs": [
        {
          "output_type": "stream",
          "name": "stdout",
          "text": [
            "Enter the First Number:22.0\n",
            "Enter the Second Number:44.8\n",
            "44.8 Is Highest Number\n"
          ]
        }
      ]
    },
    {
      "cell_type": "code",
      "source": [
        "#Anusha:\n",
        "person1_Name=input(\"Enter the name of the First_person : \")\n",
        "person1_Age=int(input(\"Enter the Age of the First_person\"))\n",
        "person2_Name=input(\"Enter The Name Of The Second_Person:\")\n",
        "person2_Age=int(input(\"Enter The Age Of Second_person\"))\n",
        "\n",
        "if person1_Age>person2_Age:\n",
        "\n",
        "  Age_diff=person1_Age-person2_Age\n",
        "  print(person1_Name,\"Is\",Age_diff,\"Olderthan\",person2_Name)\n",
        "\n",
        "elif person2_Age>person1_Age:\n",
        "  Age_diff2=person2_Age-person1_Age\n",
        "  print()\n",
        "\n"
      ],
      "metadata": {
        "id": "fGx3uSXB1HNF"
      },
      "execution_count": null,
      "outputs": []
    },
    {
      "cell_type": "code",
      "source": [
        "#Anusha:\n",
        "person1_Name=input(\"Enter the name of the First_person : \")\n",
        "person1_Age=int(input(\"Enter the Age of the First_person\"))\n",
        "person2_Name=input(\"Enter The Name Of The Second_Person:\")\n",
        "person2_Age=int(input(\"Enter The Age Of Second_person\"))\n",
        "\n",
        "if person1_Age>person2_Age:\n",
        "\n",
        "  Age_diff=person1_Age-person2_Age\n",
        "  print(person1_Name,\"Is\",Age_diff,\"Olderthan\",person2_Name)\n",
        "\n",
        "elif person2_Age>person1_Age:\n",
        "  Age_diff2=person2_Age-person1_Age\n",
        "  print(person2_Name,\"IS\",Age_diff2,\"Olderthan\",person1_Name)\n",
        "else:\n",
        "  print(person1_Name,\"and\",person2_Name, \"Have same age \")\n"
      ],
      "metadata": {
        "colab": {
          "base_uri": "https://localhost:8080/"
        },
        "id": "XvaMzJ6c3dum",
        "outputId": "f3813ee9-3bd7-42e5-a98d-eeb071db5ac7"
      },
      "execution_count": null,
      "outputs": [
        {
          "output_type": "stream",
          "name": "stdout",
          "text": [
            "Enter the name of the First_person : Anusha\n",
            "Enter the Age of the First_person27\n",
            "Enter The Name Of The Second_Person:Aarna\n",
            "Enter The Age Of Second_person3\n",
            "Anusha Is 24 Olderthan Aarna\n"
          ]
        }
      ]
    },
    {
      "cell_type": "code",
      "source": [
        "#Anusha\n",
        "#guessingGame\n",
        "import random\n",
        "\n",
        "Guess_num=int(input(\"Guess a number between o and 10 :\"))\n",
        "random_Number=(random.randint(0,10))\n",
        "if Guess_num>random_Number:\n",
        "  print(\"Please Enter the Number in the range of 0 and 10 \")\n",
        "elif Guess_num == random_Number:\n",
        "  print(\"wow!!!! , Your Guess is Correct ,Well Done \")\n",
        "elif Guess_num != random_Number:\n",
        "  print(\"sorry !!, Your Guess is worng.\\nCorrect Guess is \",random_Number)\n"
      ],
      "metadata": {
        "colab": {
          "base_uri": "https://localhost:8080/"
        },
        "id": "veoPFFzc5j_l",
        "outputId": "ace432fa-c293-4058-feee-41122efd7abb"
      },
      "execution_count": null,
      "outputs": [
        {
          "output_type": "stream",
          "name": "stdout",
          "text": [
            "Guess a number between o and 10 :9\n",
            "wow!!!! , Your Guess is Correct ,Well Done \n"
          ]
        }
      ]
    },
    {
      "cell_type": "code",
      "source": [
        "#Anusha\n",
        "num1=int(input(\"Enter the first num :\"))\n",
        "num2=int(input(\"Enter the second num:\"))\n",
        "choice=input(\"Select your : Addition , subtraction ,Multiply ,division:\")\n",
        "if choice=='Addition':\n",
        "  result_add=num1 +num2\n",
        "  print(\"when we add \",num1 ,\"and\",num2,\"we get\",result_add)\n",
        "elif choice=='subtraction':\n",
        "    result_sub=num1-num2\n",
        "    print(\"when we subtract\",num1, \"and\",num2,\"we get\",result_sub)\n",
        "elif choice=='multiply':\n",
        "  result_mul=num1*num2\n",
        "  print(\"when we Multiply\",num1, \"and\",num2,\"we get\",result_mul)\n",
        "elif choice=='division':\n",
        "  result_rem=num1%num2\n",
        "  print(float(num1),\"and \",float(num2),\"Remainder is:\",float(result_rem))\n",
        "  result_rem1=num1/num2\n",
        "  print(\"when we divide\",float(num1),\"and\",float(num2),\"we get\",result_rem1)\n",
        "else:\n",
        "  print(\"Please enter a valid Choice!!!!\")"
      ],
      "metadata": {
        "colab": {
          "base_uri": "https://localhost:8080/"
        },
        "id": "1qyBdR49DL-w",
        "outputId": "a6e0409c-857f-419a-e042-f9425414df5e"
      },
      "execution_count": null,
      "outputs": [
        {
          "output_type": "stream",
          "name": "stdout",
          "text": [
            "Enter the first num :16\n",
            "Enter the second num:3\n",
            "Select your : Addition , subtraction ,Multiply ,division:division\n",
            "16.0 and  3.0 Remainder is: 1.0\n",
            "when we divide 16.0 and 3.0 we get 5.333333333333333\n"
          ]
        }
      ]
    },
    {
      "cell_type": "code",
      "source": [
        "#Anusha\n",
        "num1=int(input(\"Enter the Marks  :\"))\n",
        "if num1>=90:\n",
        "  print(\"Grade is A+\")\n",
        "elif num1>=85 :\n",
        "  print(\"Grade is A\")\n",
        "elif num1>=75 :\n",
        "  print(\"Grade is B\")\n",
        "elif num1>=65 :\n",
        "  print(\"Grade is C\")\n",
        "elif num1>=55 :\n",
        "  print(\"Grade is D\")\n",
        "elif num1>=45 :\n",
        "  print(\"Grade is E\")\n",
        "else:\n",
        "  print(\"Grade is F\")"
      ],
      "metadata": {
        "colab": {
          "base_uri": "https://localhost:8080/"
        },
        "id": "BUd80oGd3d_D",
        "outputId": "dbf4e9c1-365a-4bc6-9511-4ab62b9adc52"
      },
      "execution_count": null,
      "outputs": [
        {
          "output_type": "stream",
          "name": "stdout",
          "text": [
            "Enter the Marks  :90\n",
            "Grade is A+\n"
          ]
        }
      ]
    }
  ]
}