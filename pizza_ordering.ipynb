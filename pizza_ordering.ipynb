{
  "nbformat": 4,
  "nbformat_minor": 0,
  "metadata": {
    "colab": {
      "provenance": [],
      "authorship_tag": "ABX9TyOrM7b8YA/qPhxz4ryfpdeJ",
      "include_colab_link": true
    },
    "kernelspec": {
      "name": "python3",
      "display_name": "Python 3"
    },
    "language_info": {
      "name": "python"
    }
  },
  "cells": [
    {
      "cell_type": "markdown",
      "metadata": {
        "id": "view-in-github",
        "colab_type": "text"
      },
      "source": [
        "<a href=\"https://colab.research.google.com/github/anushamulukutla/Gitrepo-gitx/blob/master/pizza_ordering.ipynb\" target=\"_parent\"><img src=\"https://colab.research.google.com/assets/colab-badge.svg\" alt=\"Open In Colab\"/></a>"
      ]
    },
    {
      "cell_type": "code",
      "execution_count": null,
      "metadata": {
        "id": "SqZOaYNLjYQw",
        "colab": {
          "base_uri": "https://localhost:8080/"
        },
        "outputId": "feaf07ed-b3d1-45c9-87be-9233d0e7eea3"
      },
      "outputs": [
        {
          "output_type": "stream",
          "name": "stdout",
          "text": [
            "{'name': 'ban', 'color': 'blue', 'height': '7.12meters', 'color]': 'green'}\n",
            "{'name': 'ban', 'color': 'blue', 'height': '7.12meters', 'color]': 'green'}\n",
            "{'name': 'ban', 'color': 'blue', 'height': '7.12meters', 'color]': 'green'}\n",
            "{'name': 'ban', 'color': 'blue', 'height': '7.12meters', 'color]': 'green'}\n",
            "{'name': 'ban', 'color': 'blue', 'height': '7.12meters', 'color]': 'green'}\n",
            "{'name': 'ban', 'color': 'blue', 'height': '7.12meters', 'color]': 'green'}\n",
            "{'name': 'ban', 'color': 'blue', 'height': '7.12meters', 'color]': 'green'}\n",
            "{'name': 'ban', 'color': 'blue', 'height': '7.12meters', 'color]': 'green'}\n",
            "{'name': 'ban', 'color': 'blue', 'height': '7.12meters', 'color]': 'green'}\n",
            "{'name': 'ban', 'color': 'blue', 'height': '7.12meters', 'color]': 'green'}\n",
            "{'name': 'jay', 'color': 'blue', 'height': '7.12meters'}\n",
            "{'name': 'jay', 'color': 'blue', 'height': '7.12meters'}\n",
            "{'name': 'jay', 'color': 'blue', 'height': '7.12meters'}\n",
            "{'name': 'jay', 'color': 'blue', 'height': '7.12meters'}\n",
            "{'name': 'jay', 'color': 'blue', 'height': '7.12meters'}\n",
            "{'name': 'jay', 'color': 'blue', 'height': '7.12meters'}\n",
            "{'name': 'jay', 'color': 'blue', 'height': '7.12meters'}\n",
            "{'name': 'jay', 'color': 'blue', 'height': '7.12meters'}\n",
            "{'name': 'jay', 'color': 'blue', 'height': '7.12meters'}\n",
            "{'name': 'jay', 'color': 'blue', 'height': '7.12meters'}\n",
            "{'name': 'jay', 'color': 'blue', 'height': '7.12meters'}\n",
            "{'name': 'jay', 'color': 'blue', 'height': '7.12meters'}\n",
            "{'name': 'jay', 'color': 'blue', 'height': '7.12meters'}\n",
            "{'name': 'jay', 'color': 'blue', 'height': '7.12meters'}\n",
            "{'name': 'jay', 'color': 'blue', 'height': '7.12meters'}\n",
            "{'name': 'jay', 'color': 'blue', 'height': '7.12meters'}\n",
            "{'name': 'jay', 'color': 'blue', 'height': '7.12meters'}\n",
            "{'name': 'jay', 'color': 'blue', 'height': '7.12meters'}\n",
            "{'name': 'jay', 'color': 'blue', 'height': '7.12meters'}\n",
            "{'name': 'jay', 'color': 'blue', 'height': '7.12meters'}\n",
            "{'name': 'jay', 'color': 'blue', 'height': '7.12meters'}\n",
            "{'name': 'jay', 'color': 'blue', 'height': '7.12meters'}\n",
            "{'name': 'jay', 'color': 'blue', 'height': '7.12meters'}\n",
            "{'name': 'jay', 'color': 'blue', 'height': '7.12meters'}\n",
            "{'name': 'jay', 'color': 'blue', 'height': '7.12meters'}\n",
            "{'name': 'jay', 'color': 'blue', 'height': '7.12meters'}\n",
            "{'name': 'jay', 'color': 'blue', 'height': '7.12meters'}\n",
            "{'name': 'jay', 'color': 'blue', 'height': '7.12meters'}\n",
            "{'name': 'jay', 'color': 'blue', 'height': '7.12meters'}\n",
            "{'name': 'jay', 'color': 'blue', 'height': '7.12meters'}\n",
            "{'name': 'jean', 'color': 'pink', 'height': '7.12meters'}\n",
            "{'name': 'jean', 'color': 'pink', 'height': '7.12meters'}\n",
            "{'name': 'jean', 'color': 'pink', 'height': '7.12meters'}\n",
            "{'name': 'jean', 'color': 'pink', 'height': '7.12meters'}\n",
            "{'name': 'jean', 'color': 'pink', 'height': '7.12meters'}\n",
            "{'name': 'jean', 'color': 'pink', 'height': '7.12meters'}\n",
            "{'name': 'jean', 'color': 'pink', 'height': '7.12meters'}\n",
            "{'name': 'jean', 'color': 'pink', 'height': '7.12meters'}\n",
            "{'name': 'jean', 'color': 'pink', 'height': '7.12meters'}\n",
            "{'name': 'jean', 'color': 'pink', 'height': '7.12meters'}\n"
          ]
        }
      ],
      "source": [
        "#Anusha\n",
        "\n",
        "aliens=[]\n",
        "for i in range(50):\n",
        "  alien={'name':\"jay\",\n",
        "          \"color\":\"blue\",\n",
        "          \"height\":\"7.12meters\"}\n",
        "  aliens.append(alien)\n",
        "\n",
        "\n",
        "for i in range(10):\n",
        "    aliens[i]['name']=\"ban\"\n",
        "    aliens[i]['color]']='green'\n",
        "for i in range(40,50):\n",
        "    aliens[i]['name']='jean'\n",
        "    aliens[i]['color']='pink'\n",
        "\n",
        "for i in range(len(aliens)):\n",
        "    print(aliens[i])\n",
        "\n",
        "\n",
        "\n",
        "\n",
        "\n",
        "\n",
        "\n",
        "\n"
      ]
    },
    {
      "cell_type": "code",
      "source": [
        "#using lists with in dict\n",
        "\n",
        "fav_place={'eric': [\"bear mountain\",'deathvalley',\"tierra del fuego\"],\n",
        "\n",
        "           \"erin\":[\"Hawaii\",'iceland']}\n",
        "for name,places in fav_place.items():\n",
        "  print(name.title(),\"likes the following places\")\n",
        "  for place in places:\n",
        "    print(\"\\t-\",place)"
      ],
      "metadata": {
        "colab": {
          "base_uri": "https://localhost:8080/"
        },
        "id": "_V_e7hkR0EIn",
        "outputId": "22ac921f-6249-45c0-e27b-42b6f09edd01"
      },
      "execution_count": null,
      "outputs": [
        {
          "output_type": "stream",
          "name": "stdout",
          "text": [
            "Eric likes the following places\n",
            "\t- bear mountain\n",
            "\t- deathvalley\n",
            "\t- tierra del fuego\n",
            "Erin likes the following places\n",
            "\t- Hawaii\n",
            "\t- iceland\n"
          ]
        }
      ]
    },
    {
      "cell_type": "code",
      "source": [
        "#Anusha\n",
        "dict_pizza={'name': input(\"What is the Name for the Order ? \"),\n",
        "            'base':input(\"What Base do you want? \"),\n",
        "            \"Toppings\":['Onions',\"Extra Chesse\",\"Olives\",\"Mushrooms\"]}\n",
        "\n",
        "#base price\n",
        "Base_price=10\n",
        "toppings_price=3\n",
        "print(dict_pizza['name'])\n",
        "print(dict_pizza['base'])\n",
        "No_of_toppings=int(input(\"How many topppings do want??\"))\n",
        "\n",
        "for i in range(No_of_toppings):\n",
        "  count=i\n",
        "  count=count+1\n",
        "  #print(count)\n",
        "total_cost=Base_price*count\n",
        "print(\"Toppings added:\")\n",
        "for topping in dict_pizza['Toppings']:\n",
        "    print(\" -\", topping)\n",
        "print(\"The Total cost is : \",total_cost,\"$\")\n"
      ],
      "metadata": {
        "colab": {
          "base_uri": "https://localhost:8080/"
        },
        "id": "0SDuYDsR0sNK",
        "outputId": "1f606866-34d0-4155-d548-b05c244ae1e1"
      },
      "execution_count": null,
      "outputs": [
        {
          "output_type": "stream",
          "name": "stdout",
          "text": [
            "What is the Name for the Order ? Anusha\n",
            "What Base do you want? Thin \n",
            "Anusha\n",
            "Thin \n",
            "How many topppings do want??3\n",
            "Toppings added:\n",
            " - Onions\n",
            " - Extra Chesse\n",
            " - Olives\n",
            " - Mushrooms\n",
            "The Total cost is :  30 $\n"
          ]
        }
      ]
    },
    {
      "cell_type": "code",
      "source": [
        "\n",
        "# Define the base price and the price per topping\n",
        "base_price = 10.00\n",
        "topping_price = 3.00\n",
        "\n",
        "# Dictionary to store the pizza order\n",
        "pizza = {\n",
        "    'name': '',\n",
        "    'base': '',\n",
        "    'toppings': []\n",
        "}\n",
        "\n",
        "# Available bases and toppings\n",
        "available_bases = [\"Thin Crust\", \"Thick Crust\", \"Cheese Burst\"]\n",
        "available_toppings = [\"Pepperoni\", \"Mushrooms\", \"Onions\", \"Sausage\", \"Bacon\", \"Extra Cheese\", \"Black Olives\", \"Green Peppers\", \"Pineapple\", \"Spinach\"]\n",
        "\n",
        "# Ask the user for their name\n",
        "pizza['name'] = input(\"What is the name for the order? \").strip()\n",
        "\n",
        "# Ask the user for the pizza base\n",
        "print(\"Available bases:\")\n",
        "for i, base in enumerate(available_bases, 1):\n",
        "    print(f\"{i}. {base}\")\n",
        "base_choice = int(input(\"What base do you want? (enter the number) \")) - 1\n",
        "pizza['base'] = available_bases[base_choice]\n",
        "\n",
        "# Ask the user for the number of toppings\n",
        "num_toppings = int(input(\"How many toppings do you want? \"))\n",
        "\n",
        "# Ask the user for their desired toppings\n",
        "print(\"Available toppings:\")\n",
        "for i, topping in enumerate(available_toppings, 1):\n",
        "    print(f\"{i}. {topping}\")\n",
        "\n",
        "for _ in range(num_toppings):\n",
        "    topping_choice = int(input(\"Add topping (enter the number): \")) - 1\n",
        "    if 0 <= topping_choice < len(available_toppings):\n",
        "        pizza['toppings'].append(available_toppings[topping_choice])\n",
        "    else:\n",
        "        print(\"Invalid choice. Please choose again.\")\n",
        "\n",
        "# Calculate the total cost\n",
        "total_cost = base_price + (len(pizza['toppings']) * topping_price)\n",
        "\n",
        "# Display the order summary\n",
        "print(\"\\nOrder Summary:\")\n",
        "print(f\"Name: {pizza['name']}\")\n",
        "print(f\"Base: {pizza['base']}\")\n",
        "print(\"Toppings added:\")\n",
        "for topping in pizza['toppings']:\n",
        "    print(f\" - {topping}\")\n",
        "print(f\"The total cost is = ${total_cost:.2f}\")\n",
        "\n",
        "# Thank the user\n",
        "print(\"\\nThank you for your order!\")"
      ],
      "metadata": {
        "id": "8b2dirrE3TFI",
        "colab": {
          "base_uri": "https://localhost:8080/"
        },
        "outputId": "98cfba45-3dbf-40ac-9b16-92a314461dde"
      },
      "execution_count": 2,
      "outputs": [
        {
          "output_type": "stream",
          "name": "stdout",
          "text": [
            "What is the name for the order? Anu\n",
            "Available bases:\n",
            "1. Thin Crust\n",
            "2. Thick Crust\n",
            "3. Cheese Burst\n",
            "What base do you want? (enter the number) 2\n",
            "How many toppings do you want? 4\n",
            "Available toppings:\n",
            "1. Pepperoni\n",
            "2. Mushrooms\n",
            "3. Onions\n",
            "4. Sausage\n",
            "5. Bacon\n",
            "6. Extra Cheese\n",
            "7. Black Olives\n",
            "8. Green Peppers\n",
            "9. Pineapple\n",
            "10. Spinach\n",
            "Add topping (enter the number): 3\n",
            "Add topping (enter the number): 6\n",
            "Add topping (enter the number): 7\n",
            "Add topping (enter the number): 10\n",
            "\n",
            "Order Summary:\n",
            "Name: Anu\n",
            "Base: Thick Crust\n",
            "Toppings added:\n",
            " - Onions\n",
            " - Extra Cheese\n",
            " - Black Olives\n",
            " - Spinach\n",
            "The total cost is = $22.00\n",
            "\n",
            "Thank you for your order!\n"
          ]
        }
      ]
    }
  ]
}