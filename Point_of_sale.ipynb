{
  "nbformat": 4,
  "nbformat_minor": 0,
  "metadata": {
    "colab": {
      "provenance": [],
      "authorship_tag": "ABX9TyPhG9CwXJvlMQ93yBq+DHml",
      "include_colab_link": true
    },
    "kernelspec": {
      "name": "python3",
      "display_name": "Python 3"
    },
    "language_info": {
      "name": "python"
    }
  },
  "cells": [
    {
      "cell_type": "markdown",
      "metadata": {
        "id": "view-in-github",
        "colab_type": "text"
      },
      "source": [
        "<a href=\"https://colab.research.google.com/github/anushamulukutla/Gitrepo-gitx/blob/master/Point_of_sale.ipynb\" target=\"_parent\"><img src=\"https://colab.research.google.com/assets/colab-badge.svg\" alt=\"Open In Colab\"/></a>"
      ]
    },
    {
      "cell_type": "code",
      "execution_count": null,
      "metadata": {
        "id": "SwsFNhQS2qgE"
      },
      "outputs": [],
      "source": []
    },
    {
      "cell_type": "markdown",
      "source": [
        "# New section"
      ],
      "metadata": {
        "id": "EEP_RHsiBe16"
      }
    },
    {
      "cell_type": "code",
      "source": [],
      "metadata": {
        "id": "vzk3s4mcBilJ"
      },
      "execution_count": null,
      "outputs": []
    },
    {
      "cell_type": "code",
      "execution_count": null,
      "metadata": {
        "colab": {
          "base_uri": "https://localhost:8080/"
        },
        "outputId": "af67bf7a-acb1-485b-be61-6ad396672fd3",
        "id": "zEbK_KOgB01z"
      },
      "outputs": [
        {
          "output_type": "stream",
          "name": "stdout",
          "text": [
            "****************************************************************************************************\n",
            "\t\t WELCOME To TINY LAPTOPSTORE \n",
            " Items listed:\n",
            "1 Apple : 10\n",
            "2 Dell : 20\n",
            "3 HP : 30\n",
            "****************************************************************************************************\n",
            "Enter item number or enter -1 to total\n",
            "1\n",
            "Selected item id: 1 name is Apple price is 10\n",
            "5\n",
            "Invalid Entry, Enter a valid item number: 2\n",
            "Selected item id: 2 name is Dell price is 20\n",
            "-1\n",
            "The total price of the  2 selected items: 30\n"
          ]
        }
      ],
      "source": [
        "#Anusha\n",
        "itemid_1,itemid_2,itemid_3=1,2,3\n",
        "itemname_1,itemname_2,itemname_3=\"Apple\",\"Dell\",\"HP\"\n",
        "itemprice_1,itemprice_2,itemprice_3=10,20,30\n",
        "print(\"*\"*100)\n",
        "print(\"\\t\\t WELCOME To TINY LAPTOPSTORE \\n Items listed:\")\n",
        "print(itemid_1,itemname_1,\":\",itemprice_1)\n",
        "print(itemid_2,itemname_2,\":\",itemprice_2)\n",
        "print(itemid_3,itemname_3,\":\",itemprice_3)\n",
        "print(\"*\"*100)\n",
        "Total_cart_value=0\n",
        "quantity=0\n",
        "print('Enter item number or enter -1 to total')\n",
        "while True:\n",
        "  cashier_choice=int(input())\n",
        "  if cashier_choice==itemid_1:\n",
        "    print(\"Selected item id:\",itemid_1,\"name is\",itemname_1,\"price is\",itemprice_1)\n",
        "    Total_cart_value=Total_cart_value+itemprice_1\n",
        "    quantity+=1\n",
        "  elif cashier_choice==itemid_2:\n",
        "    print(\"Selected item id:\",itemid_2,\"name is\",itemname_2,\"price is\",itemprice_2)\n",
        "    Total_cart_value=Total_cart_value+itemprice_2\n",
        "    quantity+=1\n",
        "  elif cashier_choice==itemid_3:\n",
        "    print(\"Selected item id:\",itemid_3,\"name is\",itemname_3,\"price is\",itemprice_3)\n",
        "    Total_cart_value =Total_cart_value+itemprice_3\n",
        "    quantity+=1\n",
        "  elif cashier_choice== -1:\n",
        "    print(\"The total price of the \", quantity,\"selected items:\", Total_cart_value)\n",
        "    break\n",
        "  else:\n",
        "    print(\"Invalid Entry, Enter a valid item number:\",end=\" \")"
      ]
    }
  ]
}