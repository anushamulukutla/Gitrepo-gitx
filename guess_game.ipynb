{
  "nbformat": 4,
  "nbformat_minor": 0,
  "metadata": {
    "colab": {
      "provenance": [],
      "authorship_tag": "ABX9TyMy7dVUVUqgbbJgRk7hbXPN",
      "include_colab_link": true
    },
    "kernelspec": {
      "name": "python3",
      "display_name": "Python 3"
    },
    "language_info": {
      "name": "python"
    }
  },
  "cells": [
    {
      "cell_type": "markdown",
      "metadata": {
        "id": "view-in-github",
        "colab_type": "text"
      },
      "source": [
        "<a href=\"https://colab.research.google.com/github/anushamulukutla/Gitrepo-gitx/blob/master/guess_game.ipynb\" target=\"_parent\"><img src=\"https://colab.research.google.com/assets/colab-badge.svg\" alt=\"Open In Colab\"/></a>"
      ]
    },
    {
      "cell_type": "code",
      "execution_count": null,
      "metadata": {
        "colab": {
          "base_uri": "https://localhost:8080/"
        },
        "id": "dLArxyy6LsHR",
        "outputId": "f9f8da43-754e-4cde-aa3e-29e038f133ff"
      },
      "outputs": [
        {
          "output_type": "stream",
          "name": "stdout",
          "text": [
            "Welcome to letter Guessing Game :\n",
            "Enter your guess in :A_ _ l _p\n",
            "Correct Guess!!\n",
            "Enter your guess in :A_ _ l _p\n",
            "Correct Guess!!\n",
            "Enter your guess in :A_ _ l _u\n",
            "Invalid guess tryagain!!!!\n",
            "2 are correct\n"
          ]
        }
      ],
      "source": [
        "word=\"Apple\"\n",
        "display_word=\"A_ _ l _\"\n",
        "letter_guess=0\n",
        "print(\"Welcome to letter Guessing Game :\")\n",
        "for l in range(1,4):\n",
        "  user_guess=input(\"Enter your guess in :\" + display_word)\n",
        "  if user_guess in word:\n",
        "    print(\"Correct Guess!!\")\n",
        "    letter_guess=letter_guess+1\n",
        "  else:\n",
        "    print(\"Invalid guess tryagain!!!!\")\n",
        "print(letter_guess,\"are correct\")"
      ]
    },
    {
      "cell_type": "markdown",
      "source": [],
      "metadata": {
        "id": "AF4SmwInP2XU"
      }
    },
    {
      "cell_type": "code",
      "source": [
        "#Anusha\n",
        "complete_sentence=\"how sweet are the apples?\"\n",
        "sentence=\"How _____ are the apples?\"\n",
        "print(\"Guess the missing Word from :\",sentence)\n",
        "guess_count=0\n",
        "for i in range(1,4):\n",
        "  guess=input(\"enter the guessing word:\")\n",
        "  guess_count=guess_count+1\n",
        "  if guess in complete_sentence:\n",
        "    print(\"your guess is correct!!!\")\n",
        "    break\n",
        "  else:\n",
        "    print(\"Invalid guess!! ,Try Again \")\n"
      ],
      "metadata": {
        "colab": {
          "base_uri": "https://localhost:8080/"
        },
        "id": "56WH4j2zQizR",
        "outputId": "5b2e1add-6faa-4e9f-92bb-3338bb6dc8ce"
      },
      "execution_count": null,
      "outputs": [
        {
          "output_type": "stream",
          "name": "stdout",
          "text": [
            "Guess the missing Word from : How _____ are the apples?\n",
            "enter the guessing word:small \n",
            "Invalid guess!! ,Try Again \n",
            "enter the guessing word:big\n",
            "Invalid guess!! ,Try Again \n",
            "enter the guessing word:sweet\n",
            "your guess is correct!!!\n"
          ]
        }
      ]
    },
    {
      "cell_type": "code",
      "source": [],
      "metadata": {
        "id": "t9tSxC1zS6iT"
      },
      "execution_count": null,
      "outputs": []
    },
    {
      "cell_type": "code",
      "source": [
        "#anusha While\n",
        "complete_sentence=\"how sweet are the apples?\"\n",
        "sentence=\"How _____ are the apples?\"\n",
        "print(\"Guess the missing Word from :\",sentence)\n",
        "guess_count=0\n",
        "while guess_count<3:\n",
        "   guess=input(\"enter the guessing word:\")\n",
        "   guess_count=guess_count+1\n",
        "   if guess in complete_sentence:\n",
        "    print(\"your guess is correct!!!\")\n",
        "    break\n",
        "   else:\n",
        "    print(\"Invalid guess!! ,Try Again \")\n",
        "\n"
      ],
      "metadata": {
        "colab": {
          "base_uri": "https://localhost:8080/"
        },
        "id": "u8IhV33WOjol",
        "outputId": "ff247914-6758-40a0-9c10-e39e4ba978d2"
      },
      "execution_count": null,
      "outputs": [
        {
          "output_type": "stream",
          "name": "stdout",
          "text": [
            "Guess the missing Word from : How _____ are the apples?\n",
            "enter the guessing word:uuu\n",
            "Invalid guess!! ,Try Again \n",
            "enter the guessing word:llll\n",
            "Invalid guess!! ,Try Again \n",
            "enter the guessing word:mmm\n",
            "Invalid guess!! ,Try Again \n"
          ]
        }
      ]
    },
    {
      "cell_type": "code",
      "source": [
        "# prompt: write a program to uesr to guess fill in the blank  to complete the sentence in python and also give him 3 chances\n",
        "\n",
        "# Get the complete sentence and the incomplete sentence with the blank\n",
        "complete_sentence = \"How sweet are the apples?\"\n",
        "incomplete_sentence = \"How _____ are the apples?\"\n",
        "\n",
        "# Print the incomplete sentence and ask the user to guess the missing word\n",
        "print(\"Guess the missing word from:\", incomplete_sentence)\n",
        "\n",
        "# Initialize the guess count\n",
        "guess_count = 0\n",
        "\n",
        "# While the guess count is less than 3\n",
        "while guess_count < 3:\n",
        "  # Get the user's guess\n",
        "  guess = input(\"Enter your guess: \")\n",
        "\n",
        "  # Check if the guess is correct\n",
        "  if guess in complete_sentence:\n",
        "    # Print a message indicating that the guess is correct and break out of the loop\n",
        "    print(\"Your guess is correct!\")\n",
        "    break\n",
        "  else:\n",
        "    # Print a message indicating that the guess is incorrect and increment the guess count\n",
        "    print(\"Invalid guess! Try again.\")\n",
        "    guess_count += 1\n",
        "\n",
        "# Print a message indicating the number of correct guesses\n",
        "print(guess_count, \"are correct\")\n"
      ],
      "metadata": {
        "id": "RbBS5r-tWoNc"
      },
      "execution_count": null,
      "outputs": []
    }
  ]
}