{
  "nbformat": 4,
  "nbformat_minor": 0,
  "metadata": {
    "colab": {
      "provenance": [],
      "authorship_tag": "ABX9TyNIUHUju9WX8KAn9WTbJY76",
      "include_colab_link": true
    },
    "kernelspec": {
      "name": "python3",
      "display_name": "Python 3"
    },
    "language_info": {
      "name": "python"
    }
  },
  "cells": [
    {
      "cell_type": "markdown",
      "metadata": {
        "id": "view-in-github",
        "colab_type": "text"
      },
      "source": [
        "<a href=\"https://colab.research.google.com/github/anushamulukutla/Gitrepo-gitx/blob/master/even_odd.ipynb\" target=\"_parent\"><img src=\"https://colab.research.google.com/assets/colab-badge.svg\" alt=\"Open In Colab\"/></a>"
      ]
    },
    {
      "cell_type": "code",
      "execution_count": null,
      "metadata": {
        "colab": {
          "base_uri": "https://localhost:8080/"
        },
        "id": "V7KbBDs4OI2l",
        "outputId": "869b0c74-1ee1-48d0-e67e-2d307f45b71c"
      },
      "outputs": [
        {
          "output_type": "stream",
          "name": "stdout",
          "text": [
            "Even Numberlist: [2, 4, 6, 32, 2, 4]\n",
            "odd Numberlist: [1, 3, 5, 7, 21, 33]\n",
            "Number greater than 90:  [100, 110]\n"
          ]
        }
      ],
      "source": [
        "#Anusha\n",
        "my_list = [1, 2, 3, 4, 5, 6, 7, 100, 110, 21, 33, 32, 2, 4]\n",
        "even=[]\n",
        "not_even=[]\n",
        "outlier=[]\n",
        "for i in range(len(my_list)):\n",
        "  value=my_list[i]\n",
        "  #even\n",
        "  if value%2==0 and value<90:\n",
        "    even.append(value)\n",
        "    #outlier\n",
        "  elif value>90:\n",
        "    outlier.append(value)\n",
        "    #odd\n",
        "  else:\n",
        "    not_even.append(value)\n",
        "print(\"Even Numberlist:\",even)\n",
        "print(\"odd Numberlist:\",not_even)\n",
        "print(\"Number greater than 90: \", outlier)"
      ]
    },
    {
      "cell_type": "code",
      "source": [
        "#isalnum():\n",
        "#should not start with 0;\n",
        "#length of the string is <=7\n",
        "#it should contain lower and upper\n",
        "\n",
        "#lets promt user to enter the number\n",
        "\n",
        "password=input(\"Enter your password:\")\n",
        "counter_lower=0\n",
        "counter_upper=0\n",
        "for char in (password):\n",
        "  if password.islower():\n",
        "    counter_lower+=1\n",
        "    print(\"lower\",counter_lower)\n",
        "    if password.isupper():\n",
        "     counter_upper+=1\n",
        "     print(\"upper\",counter_upper)\n",
        "if counter_lower==0 or counter_upper==0:\n",
        "  print(\"password should contain both upper case and lowercase\")\n",
        "if password.isalnum():\n",
        "  if password[0].isdigit():\n",
        "    print(\"Password cannot start with a digit!!!!\")\n",
        "  if len(password)>7:\n",
        "    print(\"The password entered by you contains\",len(password),\"charters it should be less than 7\")\n",
        "else:\n",
        "  print(\"No spl char is allowed\")\n"
      ],
      "metadata": {
        "colab": {
          "base_uri": "https://localhost:8080/"
        },
        "id": "Ry6AxaG7lqf3",
        "outputId": "6f39bbde-e222-4db3-cf49-3fd344542e4c"
      },
      "execution_count": null,
      "outputs": [
        {
          "output_type": "stream",
          "name": "stdout",
          "text": [
            "Enter your password:drgdfgdfgrththWWWWW\n",
            "password should contain both upper case and lowercase\n",
            "The password entered by you contains 19 charters it should be less than 7\n"
          ]
        }
      ]
    },
    {
      "cell_type": "code",
      "source": [
        "password = input(\"Enter your password: \")\n",
        "\n",
        "# Initialize counters for lowercase and uppercase letters\n",
        "counter_lower = 0\n",
        "counter_upper = 0\n",
        "\n",
        "# Check each character to count lowercase and uppercase letters\n",
        "for char in password:\n",
        "    if char.islower():\n",
        "        counter_lower += 1\n",
        "    elif char.isupper():\n",
        "        counter_upper += 1\n",
        "\n",
        "# Validate the password\n",
        "if not password.isalnum():\n",
        "    print(\"No special characters are allowed.\")\n",
        "elif password[0].isdigit():\n",
        "    print(\"Password cannot start with a digit!\")\n",
        "elif len(password) > 7:\n",
        "    print(\"The password should contain 7 or fewer characters. Your password contains\", len(password), \"characters.\")\n",
        "elif counter_lower == 0 or counter_upper == 0:\n",
        "    print(\"The password should contain both uppercase and lowercase letters.\")\n",
        "else:\n",
        "    print(\"Password is valid.\")"
      ],
      "metadata": {
        "id": "zQXxwYUytjbG"
      },
      "execution_count": null,
      "outputs": []
    }
  ]
}