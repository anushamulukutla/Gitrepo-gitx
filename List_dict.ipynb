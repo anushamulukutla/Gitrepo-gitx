{
  "nbformat": 4,
  "nbformat_minor": 0,
  "metadata": {
    "colab": {
      "provenance": [],
      "authorship_tag": "ABX9TyPEkIRsAcqVzqu/NgI4OYUv",
      "include_colab_link": true
    },
    "kernelspec": {
      "name": "python3",
      "display_name": "Python 3"
    },
    "language_info": {
      "name": "python"
    }
  },
  "cells": [
    {
      "cell_type": "markdown",
      "metadata": {
        "id": "view-in-github",
        "colab_type": "text"
      },
      "source": [
        "<a href=\"https://colab.research.google.com/github/anushamulukutla/Gitrepo-gitx/blob/master/List_dict.ipynb\" target=\"_parent\"><img src=\"https://colab.research.google.com/assets/colab-badge.svg\" alt=\"Open In Colab\"/></a>"
      ]
    },
    {
      "cell_type": "code",
      "source": [
        "#Anusha\n",
        "list1=[5,20,15,20,25,50,20]\n",
        "print(\"List before removing item \",value,\"\\n\",list1)\n",
        "value=20\n",
        "for i in list1:\n",
        "    if i==value:\n",
        "      list1.remove(value)\n",
        "print(\"List After Removing item\",value,\"\\n\",list1)"
      ],
      "metadata": {
        "colab": {
          "base_uri": "https://localhost:8080/"
        },
        "id": "OjGozyTgig5C",
        "outputId": "42fa44b2-a624-4a59-a644-120670438318"
      },
      "execution_count": null,
      "outputs": [
        {
          "output_type": "stream",
          "name": "stdout",
          "text": [
            "List before removing item  20 \n",
            " [5, 20, 15, 20, 25, 50, 20]\n",
            "List After Removing item 20 \n",
            " [5, 15, 25, 50]\n"
          ]
        }
      ]
    },
    {
      "cell_type": "code",
      "execution_count": null,
      "metadata": {
        "colab": {
          "base_uri": "https://localhost:8080/"
        },
        "id": "DXazzS1WcMnQ",
        "outputId": "bc9b0cc5-9624-493c-ac67-eaf1c6edf0de"
      },
      "outputs": [
        {
          "output_type": "stream",
          "name": "stdout",
          "text": [
            "('Anusha', 'ram', 'Aarna')\n",
            "ram\n",
            "('Anusha', 'ram', 'Aarna')\n",
            "('Anusha', 'ram', 'Aarna')\n"
          ]
        }
      ],
      "source": [
        "#tuples:\n",
        "#we cannot change tuple values:\n",
        "#we can have duplicate values\n",
        "#we can only del the tuple by using del key word\n",
        "\n",
        "tuple1=(\"Anusha\",'ram',\"Aarna\")\n",
        "tuple2=(\"Anusha\",'ram',\"Aarna\")\n",
        "print(tuple1)\n",
        "print(tuple1[1])\n",
        "print(tuple2)\n",
        "#del tuple2\n",
        "print(tuple2)"
      ]
    },
    {
      "cell_type": "code",
      "source": [
        "#dic are changeable\n",
        "#they have key and value\n",
        "#key are unique cannot be duplicated\n",
        "#\n",
        "\n",
        "\n"
      ],
      "metadata": {
        "id": "WRSRDaX3ttGo"
      },
      "execution_count": null,
      "outputs": []
    },
    {
      "cell_type": "code",
      "source": [
        "#Anusha\n",
        "dict_student={'First_name' : \"Anusha\",\n",
        "             'Last_name':\"Mulukutla\",\n",
        "             'age':27,\n",
        "             'Grade':'A',\n",
        "             'date-Of-Birth':'jan 7th'\n",
        "            }\n",
        "\n",
        "for key,value in dict_student.items():\n",
        "  print(key,\" : \",value)"
      ],
      "metadata": {
        "colab": {
          "base_uri": "https://localhost:8080/"
        },
        "id": "OnjreOqYt2uM",
        "outputId": "794b0d7d-9895-47c3-e6b0-46567ff4e78a"
      },
      "execution_count": null,
      "outputs": [
        {
          "output_type": "stream",
          "name": "stdout",
          "text": [
            "First_name  :  Anusha\n",
            "Last_name  :  Mulukutla\n",
            "age  :  27\n",
            "Grade  :  A\n",
            "date-Of-Birth  :  jan 7th\n"
          ]
        }
      ]
    },
    {
      "cell_type": "code",
      "source": [
        "#Anusha\n",
        "dict_frnds={\"Tom\":10,\n",
        "             \"Clara\":2,\n",
        "             \"Nancy\":9,\n",
        "             \"Leo\":7,\n",
        "             \"Ellen\":2}\n",
        "for k,v in dict_frnds.items():\n",
        "  print(k,\"favorite number is : \",v)\n"
      ],
      "metadata": {
        "colab": {
          "base_uri": "https://localhost:8080/"
        },
        "id": "uTMWKYeavflZ",
        "outputId": "448df1a1-577b-46d3-94db-7e48274887f0"
      },
      "execution_count": null,
      "outputs": [
        {
          "output_type": "stream",
          "name": "stdout",
          "text": [
            "Tom favorite number is  10\n",
            "Clara favorite number is  2\n",
            "Nancy favorite number is  9\n",
            "Leo favorite number is  7\n",
            "Ellen favorite number is  2\n"
          ]
        }
      ]
    },
    {
      "cell_type": "code",
      "source": [
        "#python dict\n",
        "#Anusha\n",
        "python_dict={\"variable\":\"Used to store values and use them later \",\n",
        "             \"print\":\"used  display text\",\n",
        "             \"input()\": \"Allows user to prompt\",\n",
        "             \"syntax\":\"Set of rules\",\n",
        "             \"list\":\"Used to store values of different datatypes\"}\n",
        "for k,v in python_dict.items():\n",
        "  print(\"***\",k,\"meaning is:\\n\",v)"
      ],
      "metadata": {
        "colab": {
          "base_uri": "https://localhost:8080/"
        },
        "id": "0525aBFQ41B7",
        "outputId": "ded67ca8-9485-407b-b45e-240600414dcb"
      },
      "execution_count": null,
      "outputs": [
        {
          "output_type": "stream",
          "name": "stdout",
          "text": [
            "*** variable meaning is:\n",
            " Used to store values and use them later \n",
            "*** print meaning is:\n",
            " used  display text\n",
            "*** input() meaning is:\n",
            " Allows user to prompt\n",
            "*** syntax meaning is:\n",
            " Set of rules\n",
            "*** list meaning is:\n",
            " Used to store values of different datatypes\n"
          ]
        }
      ]
    },
    {
      "cell_type": "code",
      "source": [],
      "metadata": {
        "id": "MxuacnUh-Qbc"
      },
      "execution_count": null,
      "outputs": []
    },
    {
      "cell_type": "code",
      "source": [
        "#Dictionaries\n",
        "#key and value\n",
        "#keys cannot be duplicate\n",
        "#Example 1:\n",
        "products={'table':120,'chair':40,'lamp':14}\n",
        "print(products['chair'])\n",
        "print(products.keys())\n",
        "print(products.values())\n",
        "for product in products: #keys\n",
        "  print(product)\n",
        "for price in products.values(): #values only\n",
        "  print(price)\n",
        "for key,value in products.items():#both key value pair\n",
        "  print(key,'costs $',value,'.')"
      ],
      "metadata": {
        "colab": {
          "base_uri": "https://localhost:8080/"
        },
        "id": "mxUZlt8_wz4c",
        "outputId": "caeb9b78-bcb2-40af-cb7d-e7774a93472e"
      },
      "execution_count": null,
      "outputs": [
        {
          "output_type": "stream",
          "name": "stdout",
          "text": [
            "40\n",
            "dict_keys(['table', 'chair', 'lamp'])\n",
            "dict_values([120, 40, 14])\n",
            "table\n",
            "chair\n",
            "lamp\n",
            "120\n",
            "40\n",
            "14\n",
            "table costs $ 120 .\n",
            "chair costs $ 40 .\n",
            "lamp costs $ 14 .\n"
          ]
        }
      ]
    },
    {
      "cell_type": "code",
      "source": [
        "#Anusha\n",
        "#rivers\n",
        "rivers_dict={'Nile':'Egypt',\n",
        "             \"Amazon_River\":\"'Brazil','peru','columbia'\",\n",
        "             \"Indus_River\":\"Asia\"}\n",
        "print(\"***\"*30)\n",
        "for k in rivers_dict.keys():\n",
        "\n",
        "  if k=='Nile':\n",
        "    print(\"The Nile River Flows Through Egypt!!!\",rivers_dict.get('Nile'))\n",
        "  elif k == 'Amazon_River':\n",
        "    print(\"The Amazon River Flows Through Three countries i.e \",rivers_dict.get('Amazon_River'))\n",
        "  elif k == \"Indus_River\":\n",
        "    print(\"The Indus River Flows Through \",rivers_dict.get(\"Indus_River\"))\n",
        "print(\"***\"*30)\n",
        "print(\"The Following River data set is: \")\n",
        "print('-'.join(rivers_dict.keys()))\n",
        "print(\"***\"*30)\n",
        "print(\"The Following countries data set is :\")\n",
        "print('-'.join(rivers_dict.values()))\n",
        "print(\"***\"*30)"
      ],
      "metadata": {
        "colab": {
          "base_uri": "https://localhost:8080/"
        },
        "id": "wpMvIkhv-SMY",
        "outputId": "35086150-2645-4bf0-8771-ec8219afc305"
      },
      "execution_count": null,
      "outputs": [
        {
          "output_type": "stream",
          "name": "stdout",
          "text": [
            "******************************************************************************************\n",
            "The Nile River Flows Through Egypt!!! Egypt\n",
            "The Amazon River Flows Through Three countries i.e  'Brazil','peru','columbia'\n",
            "The Indus River Flows Through  Asia\n",
            "******************************************************************************************\n",
            "The Following River data set is: \n",
            "Nile-Amazon_River-Indus_River\n",
            "******************************************************************************************\n",
            "The Following countries data set is :\n",
            "Egypt-'Brazil','peru','columbia'-Asia\n",
            "******************************************************************************************\n"
          ]
        }
      ]
    },
    {
      "cell_type": "code",
      "source": [
        "#Anusha\n",
        "fav_languages = {\n",
        "    \"jen\": \"python\",\n",
        "    \"sarah\": \"c\",\n",
        "    \"edward\": \"ruby\",\n",
        "    \"phil\": \"python\",\n",
        "    \"laya\": \"\"\n",
        "}\n",
        "list_name = ['jen', 'paul', 'laya', 'razan', 'peter']\n",
        "\n",
        "for item in list_name:\n",
        "    if item in fav_languages.keys():\n",
        "        if fav_languages[item]:\n",
        "            print(\"Thanks for taking the poll\",item)\n",
        "        else:\n",
        "            print(item, \"please take the poll\")\n",
        "    else:\n",
        "        print(item, \"please take the poll.\")\n"
      ],
      "metadata": {
        "colab": {
          "base_uri": "https://localhost:8080/"
        },
        "id": "m6bBxQM9LeMC",
        "outputId": "5684d3b9-b335-436b-89de-29a26f8d232e"
      },
      "execution_count": null,
      "outputs": [
        {
          "output_type": "stream",
          "name": "stdout",
          "text": [
            "Thanks for taking the poll jen\n",
            "paul please take the poll.\n",
            "laya please take the poll\n",
            "razan please take the poll.\n",
            "peter please take the poll.\n"
          ]
        }
      ]
    },
    {
      "cell_type": "code",
      "source": [
        "#Anusha\n",
        "dict_Alien1={\"Name\" : \"Bantaf\",\n",
        "             \"color\" : \"Green\",\n",
        "             \"height\":3.2}\n",
        "dict_Alien2={\"Name\" : \"cythara\",\n",
        "             \"color\" : \"Red\",\n",
        "             \"height\":3.6}\n",
        "dict_Alien3={\"Name\" : \"clara\",\n",
        "             \"color\" : \"yellow\",\n",
        "             \"height\":3.6}\n",
        "kid_Answer=input(\"What color was the alien you spotted? \")\n",
        "if kid_Answer==dict_Alien1['color']:\n",
        "  print(\"kid spotted \",dict_Alien1['Name'],\"a friendly\",dict_Alien1['color'],\"Alien\",\"of Height\",dict_Alien1['height'])\n",
        "\n",
        "if kid_Answer==dict_Alien2['color']:\n",
        "  print(\"kid spotted \",dict_Alien2['Name'],\"a Notty\",dict_Alien2['color'],\"Alien\",\"of Height\",dict_Alien2['height'])\n",
        "if kid_Answer==dict_Alien3['color']:\n",
        "  print(\"kid spotted \",dict_Alien3['Name'],\"an Angry\",dict_Alien3['color'],\"Alien\",\"of Height\",dict_Alien3['height'])"
      ],
      "metadata": {
        "colab": {
          "base_uri": "https://localhost:8080/"
        },
        "id": "b24Wpyf5UZlw",
        "outputId": "f1172da5-ae7b-4485-c7e6-5d17c76cb501"
      },
      "execution_count": null,
      "outputs": [
        {
          "output_type": "stream",
          "name": "stdout",
          "text": [
            "What color was the alien you spotted? yellow\n",
            "kid spotted  clara an Angry yellow Alien of Height 3.6\n"
          ]
        }
      ]
    },
    {
      "cell_type": "markdown",
      "source": [],
      "metadata": {
        "id": "mtuLJZrQXG6X"
      }
    },
    {
      "cell_type": "code",
      "source": [
        "var=10\n",
        "#print(variable)\n",
        "#Print()\n",
        "list1=[1,2,3]\n",
        "#print(list1(10))\n",
        "list1.append(8)\n",
        "print()"
      ],
      "metadata": {
        "id": "UgXlCxsSVWlq"
      },
      "execution_count": null,
      "outputs": []
    },
    {
      "cell_type": "code",
      "source": [],
      "metadata": {
        "id": "2QSejGc7mzN6"
      },
      "execution_count": null,
      "outputs": []
    },
    {
      "cell_type": "code",
      "source": [
        "#Anusha\n",
        "dict_Alien1={\"Name\" : \"Bantaf\",\n",
        "             \"color\" : \"Green\",\n",
        "             \"height\":3.2}\n",
        "dict_Alien2={\"Name\" : \"cythara\",\n",
        "             \"color\" : \"Red\",\n",
        "             \"height\":3.6}\n",
        "dict_Alien3={\"Name\" : \"clara\",\n",
        "             \"color\" : \"Yellow\",\n",
        "             \"height\":3.2}\n",
        "kids_choice=int(input(\"How many ailens did you saw!!!!! \"))\n",
        "for i in range(kids_choice):\n",
        "  kid_Answer=input(\"What color was the alien you spotted? \").title()\n",
        "  if kid_Answer==dict_Alien1['color']:\n",
        "\n",
        "    print(\"kid spotted \",dict_Alien1['Name'],\"a friendly\",dict_Alien1['color'].title(),\"Alien\",\"of Height\",dict_Alien1['height'])\n",
        "\n",
        "  elif kid_Answer==dict_Alien2['color']:\n",
        "    print(\"kid spotted \",dict_Alien2['Name'],\"a Notty\",dict_Alien2['color'].title(),\"Alien\",\"of Height\",dict_Alien2['height'])\n",
        "  elif kid_Answer==dict_Alien3['color']:\n",
        "    print(\"kid spotted \",dict_Alien3['Name'],\"an Angry\",dict_Alien3['color'].title(),\"Alien\",\"of Height\",dict_Alien3['height'])\n",
        "  else:\n",
        "    print(\"There is no Alien of \",kid_Answer,\"Please recollect the Alien Colour you have seen !!!!!\")\n",
        "\n"
      ],
      "metadata": {
        "colab": {
          "base_uri": "https://localhost:8080/"
        },
        "id": "my3GJd8Qmzd1",
        "outputId": "d5248d07-3f68-4dcc-d863-ebcc60f2c3d5"
      },
      "execution_count": null,
      "outputs": [
        {
          "output_type": "stream",
          "name": "stdout",
          "text": [
            "How many ailens did you saw!!!!! 2\n",
            "What color was the alien you spotted? blue\n",
            "There is no Alien of  Blue Please recollect the Alien Colour you have seen !!!!!\n",
            "What color was the alien you spotted? green\n",
            "kid spotted  Bantaf a friendly Green Alien of Height 3.2\n"
          ]
        }
      ]
    }
  ]
}