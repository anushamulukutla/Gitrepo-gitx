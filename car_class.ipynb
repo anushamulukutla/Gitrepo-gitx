{
  "nbformat": 4,
  "nbformat_minor": 0,
  "metadata": {
    "colab": {
      "provenance": [],
      "authorship_tag": "ABX9TyOVHrEnt/XoqHOdrHX5kudv",
      "include_colab_link": true
    },
    "kernelspec": {
      "name": "python3",
      "display_name": "Python 3"
    },
    "language_info": {
      "name": "python"
    }
  },
  "cells": [
    {
      "cell_type": "markdown",
      "metadata": {
        "id": "view-in-github",
        "colab_type": "text"
      },
      "source": [
        "<a href=\"https://colab.research.google.com/github/anushamulukutla/Gitrepo-gitx/blob/master/car_class.ipynb\" target=\"_parent\"><img src=\"https://colab.research.google.com/assets/colab-badge.svg\" alt=\"Open In Colab\"/></a>"
      ]
    },
    {
      "cell_type": "code",
      "execution_count": null,
      "metadata": {
        "id": "HpvlJIpZHN9H"
      },
      "outputs": [],
      "source": [
        "#Anusha\n",
        "\"\"\"\n",
        "Create a new class representing a car. The Car class will store information about the car: make, model, year. Class Car will have a method called get_descriptive_name that summarizes information about the car. Example: 2019 Kia Optima.\n",
        "Add an attribute called odometer_reading that always starts with a value of 0. This will be used to store the car's mileage.\n",
        "Add another method called read_odometer. In this method, print a statement showing the car's mileage.\n",
        "Add another method called update_odometer that allows the value of odometer_reading to be updated but only allows a value higher than the one currently stored. It should display an error message if the value is less than the one currently stored.\n",
        "Add another method called fill_gas_tank that displays a message that the gas tank has been filled.\n",
        "Now, add another class called ElectricCar. This class inherits attributes from the car class.\n",
        "Override the fill_gas_tank method so that it displays that the electric car does not use petrol.\n",
        "Challenge\n",
        "Add an attribute to ElectricCar class called battery. This attribute stores a new object for the Battery class \"\"\"\n",
        "\n"
      ]
    },
    {
      "cell_type": "code",
      "source": [
        "#anusha\n",
        "class Car :#super class\n",
        "  def __init__(self,make,model,year):\n",
        "    self.make=make\n",
        "    self.model=model\n",
        "    self.year=year\n",
        "    self.odometer_reading=0\n",
        "    print(\"\\t\\nCarName:\",self.make,\"\\t\\nModel_Name:\",self.model,\"\\t\\nyear of release\",self.year)\n",
        "  def read_odometer(self):\n",
        "    print(self.make,self.model,\"car has\" ,self.odometer_reading,\"Miles on it\")\n",
        "  def update_odometer(self,mileage):\n",
        "    if mileage>self.odometer_reading:\n",
        "      self.odometer_reading=mileage\n",
        "    else:\n",
        "      print(\"You can't go back ,The value is less than the one currently stored\")\n",
        "  def fill_gas_tank(self):\n",
        "     print(\"The gas tank has been filled.\")\n",
        "class ElectricCar(Car):\n",
        "  def __init__(self,make,model,year):\n",
        "    super().__init__(make,model,year)\n",
        "    self.battery=Battery()\n",
        "    self.battery_size = self.battery.battery_size\n",
        "    print(self.make,self.model,\"battery size is \",self.battery_size)\n",
        " #method Overriding concept\n",
        "  def fill_gas_tank(self):\n",
        "    print(\"This is an Electric car\")\n",
        "class Battery:\n",
        "  def __init__(self,battery_size=75):\n",
        "    self.battery_size=battery_size\n",
        "objcar=Car('kia',\"seltos\",\"2021\")\n",
        "objcar.read_odometer()\n",
        "objcar.update_odometer(20)\n",
        "objcar.read_odometer()\n",
        "objcar.update_odometer(10)\n",
        "objcar.read_odometer()\n",
        "objcar.fill_gas_tank()\n",
        "objcar2=ElectricCar(\"Tesla\",'Y',2022)\n",
        "objcar2.fill_gas_tank()\n",
        "\n"
      ],
      "metadata": {
        "colab": {
          "base_uri": "https://localhost:8080/"
        },
        "id": "JBUh3FGaHbwS",
        "outputId": "bacc5a7e-3a35-40a0-d21c-550a7ecfc911"
      },
      "execution_count": null,
      "outputs": [
        {
          "output_type": "stream",
          "name": "stdout",
          "text": [
            "\t\n",
            "CarName: kia \t\n",
            "Model_Name: seltos \t\n",
            "year of release 2021\n",
            "kia seltos car has 0 Miles on it\n",
            "kia seltos car has 20 Miles on it\n",
            "You can't go back ,The value is less than the one currently stored\n",
            "kia seltos car has 20 Miles on it\n",
            "The gas tank has been filled.\n",
            "\t\n",
            "CarName: Tesla \t\n",
            "Model_Name: Y \t\n",
            "year of release 2022\n",
            "Tesla Y battery size is  75\n",
            "This is an Electric car\n"
          ]
        }
      ]
    },
    {
      "cell_type": "code",
      "source": [],
      "metadata": {
        "id": "252mzQFsIcC8"
      },
      "execution_count": null,
      "outputs": []
    }
  ]
}